{
  "cells": [
    {
      "cell_type": "markdown",
      "metadata": {
        "id": "view-in-github",
        "colab_type": "text"
      },
      "source": [
        "<a href=\"https://colab.research.google.com/github/PhSx0/Curso_de_extensao_analise_de_dados_Python_pandas/blob/main/Exemplos_pandas_2.ipynb\" target=\"_parent\"><img src=\"https://colab.research.google.com/assets/colab-badge.svg\" alt=\"Open In Colab\"/></a>"
      ]
    },
    {
      "cell_type": "code",
      "execution_count": null,
      "metadata": {
        "id": "D-NMrkTnKljZ"
      },
      "outputs": [],
      "source": [
        "import pandas as pd\n"
      ]
    },
    {
      "cell_type": "code",
      "execution_count": null,
      "metadata": {
        "colab": {
          "background_save": true
        },
        "id": "Qv5rePJqKuES"
      },
      "outputs": [],
      "source": [
        "combustiveis_df = pd.read_excel(\"ca-2021-02.xlsx\")"
      ]
    },
    {
      "cell_type": "code",
      "execution_count": null,
      "metadata": {
        "colab": {
          "background_save": true
        },
        "id": "2lZ7bRiwLSAr"
      },
      "outputs": [],
      "source": [
        "display(combustiveis_df)"
      ]
    },
    {
      "cell_type": "code",
      "execution_count": null,
      "metadata": {
        "colab": {
          "background_save": true
        },
        "id": "U9CA5w9eLbNp"
      },
      "outputs": [],
      "source": [
        "ca_df = combustiveis_df[['Municipio', 'Revenda', 'Produto' , 'Valor de Venda']]\n",
        "\n",
        "display(ca_df.head(15))"
      ]
    },
    {
      "cell_type": "code",
      "execution_count": null,
      "metadata": {
        "colab": {
          "background_save": true
        },
        "id": "Dcwh7SLBLnNJ"
      },
      "outputs": [],
      "source": [
        "gas_df = ca_df.loc[ca_df['Produto'] == 'GASOLINA']\n",
        "\n",
        "display(gas_df)"
      ]
    },
    {
      "cell_type": "code",
      "execution_count": null,
      "metadata": {
        "colab": {
          "background_save": true
        },
        "id": "RDnPlwh9LrqZ"
      },
      "outputs": [],
      "source": [
        "etanol_indaiatuba_df = ca_df.loc[(ca_df['Produto'] == 'ETANOL') & (ca_df['Municipio'] == 'INDAIATUBA')]\n",
        "\n",
        "display(etanol_indaiatuba_df.head(15))"
      ]
    },
    {
      "cell_type": "code",
      "execution_count": null,
      "metadata": {
        "colab": {
          "background_save": true
        },
        "id": "D6ss10JtOlxT"
      },
      "outputs": [],
      "source": [
        "display(etanol_indaiatuba_df.sort_values(by='Valor de Venda'))"
      ]
    },
    {
      "cell_type": "code",
      "execution_count": null,
      "metadata": {
        "colab": {
          "background_save": true
        },
        "id": "E6HuGx-cQXlS"
      },
      "outputs": [],
      "source": [
        "display(combustiveis_df.loc[(combustiveis_df['Bairro'] == 'MOOCA') & (combustiveis_df['Municipio'] == 'SAO PAULO') & ((combustiveis_df['Produto'] == 'GASOLINA') | (combustiveis_df['Produto'] == 'GASOLINA ADITIVADA')), ['Valor de Venda']].mean())\n"
      ]
    },
    {
      "cell_type": "code",
      "execution_count": null,
      "metadata": {
        "id": "Op_VtXJTeib2"
      },
      "outputs": [],
      "source": [
        "media_por_combustivel_df = ca_df[['Produto', 'Valor de Venda']].groupby(by= 'Produto')\n",
        "\n",
        "display(media_por_combustivel_df)\n",
        "\n"
      ]
    },
    {
      "cell_type": "code",
      "source": [
        "combustiveis_df['Ativo'] = True\n",
        "print(combustiveis_df.info())\n",
        "display(combustiveis_df.head())"
      ],
      "metadata": {
        "id": "1LAIq9LoTdLc"
      },
      "execution_count": null,
      "outputs": []
    },
    {
      "cell_type": "code",
      "source": [
        "etanol_indaiatuba_df.to_excel('etanol_indaiatuba.xlsx', sheet_name='Etanol em Indaiatuba')"
      ],
      "metadata": {
        "id": "f2y8xGsaTfyi"
      },
      "execution_count": null,
      "outputs": []
    }
  ],
  "metadata": {
    "colab": {
      "provenance": [],
      "authorship_tag": "ABX9TyO3bSRuHpNu2g6CvnralqhL",
      "include_colab_link": true
    },
    "kernelspec": {
      "display_name": "Python 3",
      "name": "python3"
    },
    "language_info": {
      "name": "python"
    }
  },
  "nbformat": 4,
  "nbformat_minor": 0
}