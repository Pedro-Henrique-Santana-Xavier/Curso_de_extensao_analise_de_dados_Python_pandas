{
  "nbformat": 4,
  "nbformat_minor": 0,
  "metadata": {
    "colab": {
      "provenance": [],
      "authorship_tag": "ABX9TyPmKL8v2ZiDqiAyJ6GyGxIF",
      "include_colab_link": true
    },
    "kernelspec": {
      "name": "python3",
      "display_name": "Python 3"
    },
    "language_info": {
      "name": "python"
    }
  },
  "cells": [
    {
      "cell_type": "markdown",
      "metadata": {
        "id": "view-in-github",
        "colab_type": "text"
      },
      "source": [
        "<a href=\"https://colab.research.google.com/github/PhSx0/Curso_de_extensao_analise_de_dados_Python_pandas/blob/main/Exemplos_pandas_1.ipynb\" target=\"_parent\"><img src=\"https://colab.research.google.com/assets/colab-badge.svg\" alt=\"Open In Colab\"/></a>"
      ]
    },
    {
      "cell_type": "markdown",
      "source": [
        "Exemplo de manipulação de dados com usando a biblioteca pandas\n",
        "\n",
        "Autor: Pedro Henrique Santana Xavier\n",
        "\n",
        "Data: 6 / 02 / 2023\n"
      ],
      "metadata": {
        "id": "ma9occooUeBl"
      }
    },
    {
      "cell_type": "code",
      "source": [
        "# Na necessidade de instalar uma biblioteca (em Python) utilizar !pip install \"nome da biblioteca\":\n",
        "!pip install pandas "
      ],
      "metadata": {
        "id": "XO96_3O6V-MV"
      },
      "execution_count": null,
      "outputs": []
    },
    {
      "cell_type": "code",
      "source": [
        "# Impotando biblioteca\n",
        "\n",
        "import pandas as pd # pd = abreviação de pandas\n",
        "\n",
        "#Comando para leitura da base de dados bruta\n",
        "\n",
        "combustiveis_df = pd.read_excel(\"ca-2021-02.xlsx\")\n"
      ],
      "metadata": {
        "id": "4uq6TPppUYCT"
      },
      "execution_count": null,
      "outputs": []
    },
    {
      "cell_type": "code",
      "source": [
        "#Utilizando print para exibir o dataframe\n",
        "\n",
        "print(combustiveis_df)"
      ],
      "metadata": {
        "id": "z3sjyHdT5PAi"
      },
      "execution_count": null,
      "outputs": []
    },
    {
      "cell_type": "code",
      "source": [
        "#Utilizando display para exibir o dataframe *Recomendável*\n",
        "\n",
        "display(combustiveis_df)"
      ],
      "metadata": {
        "id": "ShpE30pM5Pdq"
      },
      "execution_count": null,
      "outputs": []
    },
    {
      "cell_type": "code",
      "source": [
        "#Exibindo as primeiras 5 linhas com o comando Dataframe.head(), em caso de falta de paramentro, as 5 primeiras linhas seram exibidas automaticamente\n",
        "\n",
        "display(combustiveis_df.head())"
      ],
      "metadata": {
        "id": "nSqLQ6h_5PhS"
      },
      "execution_count": null,
      "outputs": []
    },
    {
      "cell_type": "code",
      "source": [
        "#Exibindo 15 linhas\n",
        "\n",
        "display(combustiveis_df.head(15))"
      ],
      "metadata": {
        "id": "dtuEu0cm5PkR"
      },
      "execution_count": null,
      "outputs": []
    },
    {
      "cell_type": "code",
      "source": [
        "#Comando Dataframe.info\n",
        "\n",
        "display(combustiveis_df.info())\n",
        "     "
      ],
      "metadata": {
        "id": "3InRbc7O5PnC"
      },
      "execution_count": null,
      "outputs": []
    },
    {
      "cell_type": "code",
      "source": [
        "#Comandos Dataframe.shape e Dataframe.describe()\n",
        "\n",
        "display(combustiveis_df.describe()) #comando .describe() exibe estatisticas mais básicas\n",
        "\n",
        "display(combustiveis_df.shape) #comando .shape exibe as linhas e colunas respectivamentes"
      ],
      "metadata": {
        "id": "qAb7WF_E5Zlj"
      },
      "execution_count": null,
      "outputs": []
    },
    {
      "cell_type": "code",
      "source": [
        "#Filtrar apenas por coluna\n",
        "\n",
        "display(combustiveis_df['Revenda'])"
      ],
      "metadata": {
        "id": "Kg8VXvRj5dIy"
      },
      "execution_count": null,
      "outputs": []
    },
    {
      "cell_type": "code",
      "source": [
        "#Criando um Dataframe com apenas as colunas desejadas\n",
        "\n",
        "ca_df = combustiveis_df[['Municipio', 'Revenda', 'Produto' , 'Valor de Venda']]\n",
        "\n",
        "display(ca_df.head(15))"
      ],
      "metadata": {
        "id": "T2xFoqH05fnK"
      },
      "execution_count": null,
      "outputs": []
    },
    {
      "cell_type": "code",
      "source": [
        "#Exibir umas linha especifica\n",
        "\n",
        "display(ca_df.loc[3])"
      ],
      "metadata": {
        "id": "DsoPr50b5ily"
      },
      "execution_count": null,
      "outputs": []
    },
    {
      "cell_type": "code",
      "source": [
        "#Exibir em um intervalo especifico\n",
        "\n",
        "display(ca_df.loc[9:19])\n",
        "     "
      ],
      "metadata": {
        "id": "wlTj-7835ko6"
      },
      "execution_count": null,
      "outputs": []
    },
    {
      "cell_type": "code",
      "source": [
        "#Exibir somente o combustível gasolina\n",
        "\n",
        "gas_df = ca_df.loc[ca_df['Produto'] == 'GASOLINA']\n",
        "\n",
        "display(gas_df)"
      ],
      "metadata": {
        "id": "w5SzOvGp5myC"
      },
      "execution_count": null,
      "outputs": []
    },
    {
      "cell_type": "code",
      "source": [
        "#Exibir a gasolina mais cara\n",
        "\n",
        "display(gas_df['Valor de Venda'].max())"
      ],
      "metadata": {
        "id": "h8jB4EjM5ojy"
      },
      "execution_count": null,
      "outputs": []
    },
    {
      "cell_type": "code",
      "source": [
        "display(gas_df[['Municipio', 'Revenda', 'Valor de Venda']].max())"
      ],
      "metadata": {
        "id": "0jk2xyBp5rRC"
      },
      "execution_count": null,
      "outputs": []
    }
  ]
}