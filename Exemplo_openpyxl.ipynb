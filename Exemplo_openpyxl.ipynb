{
  "nbformat": 4,
  "nbformat_minor": 0,
  "metadata": {
    "colab": {
      "provenance": [],
      "authorship_tag": "ABX9TyPgPq3EEdEF6wZJGlE4voo9",
      "include_colab_link": true
    },
    "kernelspec": {
      "name": "python3",
      "display_name": "Python 3"
    },
    "language_info": {
      "name": "python"
    }
  },
  "cells": [
    {
      "cell_type": "markdown",
      "metadata": {
        "id": "view-in-github",
        "colab_type": "text"
      },
      "source": [
        "<a href=\"https://colab.research.google.com/github/PhSx0/Curso_de_extensao_analise_de_dados_Python_pandas/blob/main/Exemplo_openpyxl.ipynb\" target=\"_parent\"><img src=\"https://colab.research.google.com/assets/colab-badge.svg\" alt=\"Open In Colab\"/></a>"
      ]
    },
    {
      "cell_type": "code",
      "source": [
        "import pandas as pd\n",
        "\n",
        "combustiveis_df = pd.read_excel(\"ca-2021-02.xlsx\")\n",
        "\n"
      ],
      "metadata": {
        "id": "Wc_kvoGa1N8q"
      },
      "execution_count": 2,
      "outputs": []
    },
    {
      "cell_type": "code",
      "source": [
        "c_mean = combustiveis_df['Valor de Venda'].groupby(by=combustiveis_df['Produto']).mean()\n"
      ],
      "metadata": {
        "id": "E77Fs6BV14KB"
      },
      "execution_count": null,
      "outputs": []
    },
    {
      "cell_type": "code",
      "source": [
        "excel = \"por_litro.xlsx\"\n",
        "c_mean.to_excel(excel, \"Sumario\")"
      ],
      "metadata": {
        "id": "VbBFWTRr3FzY"
      },
      "execution_count": null,
      "outputs": []
    },
    {
      "cell_type": "code",
      "execution_count": null,
      "metadata": {
        "id": "I5j2aykQ0aNh"
      },
      "outputs": [],
      "source": [
        "\n",
        "from openpyxl import load_workbook\n",
        "from openpyxl.styles import PatternFill, Font, Color, Alignment\n",
        "\n",
        "\n",
        "wb = load_workbook(excel) \n",
        "\n",
        "ws = wb['Sumario'] \n",
        "\n",
        "cinza = PatternFill(\"solid\", fgColor=\"CCCCCC\")\n",
        "\n",
        "coords = ['A1','B1']\n",
        "for coord in coords:\n",
        "  ws[coord].fill = cinza\n",
        "\n",
        "MAX_ROW = ws.max_row\n",
        "num_linha = 2\n",
        "\n",
        "while (num_linha <= MAX_ROW):\n",
        "  coord = 'B'+str(num_linha) \n",
        "  if ws[coord].value >= 6.5:\n",
        "    ws[coord].font = Font(bold=True, color=\"FF0000\")\n",
        "  num_linha = num_linha + 1\n",
        "\n",
        "wb.save(excel)"
      ]
    },
    {
      "cell_type": "markdown",
      "source": [],
      "metadata": {
        "id": "p63B2yOm2jSP"
      }
    }
  ]
}