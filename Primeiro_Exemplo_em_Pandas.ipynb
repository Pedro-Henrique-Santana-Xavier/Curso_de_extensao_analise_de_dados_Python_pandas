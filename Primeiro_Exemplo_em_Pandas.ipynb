{
  "nbformat": 4,
  "nbformat_minor": 0,
  "metadata": {
    "colab": {
      "provenance": [],
      "authorship_tag": "ABX9TyNm78fHzdYwokpZ64dlhUT1",
      "include_colab_link": true
    },
    "kernelspec": {
      "name": "python3",
      "display_name": "Python 3"
    },
    "language_info": {
      "name": "python"
    }
  },
  "cells": [
    {
      "cell_type": "markdown",
      "metadata": {
        "id": "view-in-github",
        "colab_type": "text"
      },
      "source": [
        "<a href=\"https://colab.research.google.com/github/PhSx0/Curso-analise-de-dados-Python/blob/main/Primeiro_Exemplo_em_Pandas.ipynb\" target=\"_parent\"><img src=\"https://colab.research.google.com/assets/colab-badge.svg\" alt=\"Open In Colab\"/></a>"
      ]
    },
    {
      "cell_type": "markdown",
      "source": [
        "Exemplo de manipulação de dados com usando a biblioteca pandas\n",
        "\n",
        "Autor: Pedro Henrique Santana Xavier\n",
        "\n",
        "Data: 6 / 02 / 2023\n"
      ],
      "metadata": {
        "id": "ma9occooUeBl"
      }
    },
    {
      "cell_type": "code",
      "source": [
        "# Na necessidade de instalar uma biblioteca (em Python) utilizar !pip install \"nome da biblioteca\":\n",
        "!pip install pandas "
      ],
      "metadata": {
        "id": "XO96_3O6V-MV"
      },
      "execution_count": null,
      "outputs": []
    },
    {
      "cell_type": "code",
      "source": [
        "# Impotando biblioteca\n",
        "\n",
        "import pandas as pd # pd = abreviação de pandas\n",
        "\n",
        "#Comando para leitura da base de dados bruta\n",
        "\n",
        "combustiveis_df = pd.read_excel(\"ca-2021-02.xlsx\")"
      ],
      "metadata": {
        "id": "4uq6TPppUYCT"
      },
      "execution_count": 1,
      "outputs": []
    },
    {
      "cell_type": "code",
      "source": [
        "#Utilizando print para exibir o dataframe\n",
        "\n",
        "print(combustiveis_df)"
      ],
      "metadata": {
        "id": "ZA5U0yJcA7qY"
      },
      "execution_count": null,
      "outputs": []
    },
    {
      "cell_type": "code",
      "source": [
        "#Utilizando display para exibir o dataframe *Recomendável*\n",
        "\n",
        "display(combustiveis_df)"
      ],
      "metadata": {
        "id": "PiH9BwafBuh5"
      },
      "execution_count": null,
      "outputs": []
    },
    {
      "cell_type": "code",
      "source": [
        "#Exibindo as primeiras 5 linhas com o comando Dataframe.head(), em caso de falta de paramentro, as 5 primeiras linhas seram exibidas automaticamente\n",
        "\n",
        "display(combustiveis_df.head())"
      ],
      "metadata": {
        "id": "8ZpYYB1tE5DI"
      },
      "execution_count": null,
      "outputs": []
    },
    {
      "cell_type": "code",
      "source": [
        "#Exibindo 15 linhas\n",
        "\n",
        "display(combustiveis_df.head(15))"
      ],
      "metadata": {
        "id": "R5_VjAIIGDm4"
      },
      "execution_count": null,
      "outputs": []
    },
    {
      "cell_type": "code",
      "source": [
        "#Comando Dataframe.info\n",
        "\n",
        "display(combustiveis_df.info())"
      ],
      "metadata": {
        "id": "RJ0MYE3bKm0I"
      },
      "execution_count": null,
      "outputs": []
    },
    {
      "cell_type": "code",
      "source": [
        "#Comandos Dataframe.shape e Dataframe.describe()\n",
        "\n",
        "display(combustiveis_df.describe()) #comando .describe() exibe estatisticas mais básicas\n",
        "\n",
        "display(combustiveis_df.shape) #comando .shape exibe as linhas e colunas respectivamentes"
      ],
      "metadata": {
        "id": "4OH6Sld6HtzP"
      },
      "execution_count": null,
      "outputs": []
    },
    {
      "cell_type": "code",
      "source": [
        "#Filtrar apenas por coluna\n",
        "\n",
        "display(combustiveis_df['Revenda'])"
      ],
      "metadata": {
        "id": "u4cnQ559YiJu"
      },
      "execution_count": null,
      "outputs": []
    },
    {
      "cell_type": "code",
      "source": [
        "#Criando um Dataframe com apenas as colunas desejadas\n",
        "\n",
        "ca_df = combustiveis_df[['Municipio', 'Revenda', 'Produto' , 'Valor de Venda']]\n",
        "\n",
        "display(ca_df.head(15))\n",
        "\n"
      ],
      "metadata": {
        "id": "nMAwxymWZvYP"
      },
      "execution_count": null,
      "outputs": []
    },
    {
      "cell_type": "code",
      "source": [
        "#Exibir umas linha especifica\n",
        "\n",
        "display(ca_df.loc[3])"
      ],
      "metadata": {
        "id": "GpAVCCqkb8TO"
      },
      "execution_count": null,
      "outputs": []
    },
    {
      "cell_type": "code",
      "source": [
        "#Exibir em um intervalo especifico\n",
        "\n",
        "display(ca_df.loc[9:19])"
      ],
      "metadata": {
        "id": "Qrl3vRq0dbI0"
      },
      "execution_count": null,
      "outputs": []
    },
    {
      "cell_type": "code",
      "source": [
        "#Exibir somente o combustível gasolina\n",
        "\n",
        "gas_df = ca_df.loc[ca_df['Produto'] == 'GASOLINA']\n",
        "\n",
        "display(gas_df)"
      ],
      "metadata": {
        "id": "fY2kn16UeSat"
      },
      "execution_count": null,
      "outputs": []
    },
    {
      "cell_type": "code",
      "source": [
        "#Exibir a gasolina mais cara\n",
        "\n",
        "display(gas_df['Valor de Venda'].max())"
      ],
      "metadata": {
        "id": "-6miMJ3mgowv"
      },
      "execution_count": null,
      "outputs": []
    },
    {
      "cell_type": "code",
      "source": [
        "display(gas_df[['Municipio', 'Revenda', 'Valor de Venda']].max())"
      ],
      "metadata": {
        "colab": {
          "base_uri": "https://localhost:8080/",
          "height": 86
        },
        "id": "gZLu2XGVhdh0",
        "outputId": "a098151a-44eb-4c3e-b526-35f14cf11b6a"
      },
      "execution_count": 36,
      "outputs": [
        {
          "output_type": "display_data",
          "data": {
            "text/plain": [
              "Municipio                           XANXERE\n",
              "Revenda           ZV POSTO DE SERVIÇO LTDA.\n",
              "Valor de Venda                        7.999\n",
              "dtype: object"
            ]
          },
          "metadata": {}
        }
      ]
    }
  ]
}