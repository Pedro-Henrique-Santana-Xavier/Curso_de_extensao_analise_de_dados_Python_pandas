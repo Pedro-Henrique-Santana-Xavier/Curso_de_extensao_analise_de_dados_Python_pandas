{
  "nbformat": 4,
  "nbformat_minor": 0,
  "metadata": {
    "colab": {
      "provenance": [],
      "authorship_tag": "ABX9TyMBEwaaGiJvNRbiu+CYAzph",
      "include_colab_link": true
    },
    "kernelspec": {
      "name": "python3",
      "display_name": "Python 3"
    },
    "language_info": {
      "name": "python"
    }
  },
  "cells": [
    {
      "cell_type": "markdown",
      "metadata": {
        "id": "view-in-github",
        "colab_type": "text"
      },
      "source": [
        "<a href=\"https://colab.research.google.com/github/PhSx0/Curso_de_extensao_analise_de_dados_Python_pandas/blob/main/Exemplos_matplotlib.ipynb\" target=\"_parent\"><img src=\"https://colab.research.google.com/assets/colab-badge.svg\" alt=\"Open In Colab\"/></a>"
      ]
    },
    {
      "cell_type": "code",
      "execution_count": 2,
      "metadata": {
        "id": "DrtuX6-dXyoK"
      },
      "outputs": [],
      "source": [
        "import pandas as pd\n",
        "\n",
        "combustiveis_df = pd.read_excel(\"ca-2021-02.xlsx\")\n",
        "num_habitantes_df = pd.read_csv(\"ibge_num_habitantes_estimado.csv\", sep=\";\")"
      ]
    },
    {
      "cell_type": "code",
      "source": [
        "#Visualização do consumo médio\n",
        "c_mean = combustiveis_df['Valor de Venda'].groupby(by=combustiveis_df['Produto']).mean()\n",
        "display(c_mean)"
      ],
      "metadata": {
        "id": "2AS2w3AVpOWR"
      },
      "execution_count": null,
      "outputs": []
    },
    {
      "cell_type": "code",
      "source": [
        "# Biblioteca para construção de graficos\n",
        "\n",
        "import matplotlib.pyplot as plt \n",
        "\n",
        "# Definindo a area do grafico\n",
        "\n",
        "plt.figure(figsize=(10,5))\n",
        "\n",
        "# Criando um histograma\n",
        "\n",
        "plt.hist(combustiveis_df['Valor de Venda'])\n",
        "\n",
        "\n",
        "\n",
        "# Aplicando um titulo\n",
        "\n",
        "plt.title(\"Valor médio dos combustiveis - Nov/2021\")\n",
        "\n",
        "# Aplicando um rotolu as linhas e colunas\n",
        "\n",
        "plt.xlabel(\"Preço em reais\")\n",
        "plt.ylabel(\"Quantidade de coletas\")\n",
        "\n",
        "# Cria uma linha tracejada vermelha com o preço médio\n",
        "\n",
        "plt.axvline(combustiveis_df['Valor de Venda'].mean(), color='red', linestyle = 'dashed')\n",
        "\n",
        "# \"Plota\" o grafico\n",
        "\n",
        "plt.show"
      ],
      "metadata": {
        "id": "EyBAtgLtfdGN"
      },
      "execution_count": null,
      "outputs": []
    },
    {
      "cell_type": "code",
      "source": [],
      "metadata": {
        "id": "BIj5LZsO0LNb"
      },
      "execution_count": null,
      "outputs": []
    }
  ]
}